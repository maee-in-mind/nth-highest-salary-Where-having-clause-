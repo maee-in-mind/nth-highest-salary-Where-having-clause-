{
 "cells": [
  {
   "cell_type": "code",
   "execution_count": 1,
   "metadata": {},
   "outputs": [
    {
     "data": {
      "text/plain": [
       "<sqlite3.Cursor at 0x7f79282d78f0>"
      ]
     },
     "execution_count": 1,
     "metadata": {},
     "output_type": "execute_result"
    }
   ],
   "source": [
    "import sqlite3\n",
    "db=sqlite3.connect(\"my.db\")\n",
    "crsr=db.cursor()\n",
    "cmd=\"\"\"CREATE TABLE emp(Name varchar(20),salary INTEGER);\"\"\"\n",
    "crsr.execute(cmd)"
   ]
  },
  {
   "cell_type": "code",
   "execution_count": 2,
   "metadata": {},
   "outputs": [
    {
     "data": {
      "text/plain": [
       "<sqlite3.Cursor at 0x7f79282d78f0>"
      ]
     },
     "execution_count": 2,
     "metadata": {},
     "output_type": "execute_result"
    }
   ],
   "source": [
    "cmd=\"\"\"INSERT INTO emp(Name, salary)\n",
    "VALUES\n",
    "(\"Nitesh\",150000),\n",
    "(\"Amol\",200000),\n",
    "(\"Sachin\",160000);\n",
    "\"\"\"\n",
    "crsr.execute(cmd)"
   ]
  },
  {
   "cell_type": "code",
   "execution_count": 3,
   "metadata": {},
   "outputs": [
    {
     "name": "stdout",
     "output_type": "stream",
     "text": [
      "[('Nitesh', 150000), ('Amol', 200000), ('Sachin', 160000)]\n"
     ]
    }
   ],
   "source": [
    "crsr.execute(\"SELECT * FROM emp\")\n",
    "ans=crsr.fetchall()\n",
    "print(ans)"
   ]
  },
  {
   "cell_type": "code",
   "execution_count": 8,
   "metadata": {},
   "outputs": [
    {
     "name": "stdout",
     "output_type": "stream",
     "text": [
      "[('Amol', 200000), ('Sachin', 160000), ('Nitesh', 150000)]\n"
     ]
    }
   ],
   "source": [
    "cmd=\"\"\"SELECT Name,salary FROM emp ORDER BY salary DESC;\"\"\"\n",
    "crsr.execute(cmd)\n",
    "ans1=crsr.fetchall()\n",
    "print(ans1)"
   ]
  },
  {
   "cell_type": "code",
   "execution_count": 9,
   "metadata": {},
   "outputs": [
    {
     "name": "stdout",
     "output_type": "stream",
     "text": [
      "[('Sachin', 160000)]\n"
     ]
    }
   ],
   "source": [
    "#second highest salary paid..\n",
    "\n",
    "cmd=\"\"\"SELECT Name,salary FROM emp ORDER BY salary DESC LIMIT 1,1;\"\"\"\n",
    "crsr.execute(cmd)\n",
    "ans1=crsr.fetchall()\n",
    "print(ans1)"
   ]
  },
  {
   "cell_type": "code",
   "execution_count": 14,
   "metadata": {},
   "outputs": [
    {
     "name": "stdout",
     "output_type": "stream",
     "text": [
      "[('Sachin', 160000)]\n"
     ]
    }
   ],
   "source": [
    "cmd=\"\"\"SELECT Name,salary FROM emp WHERE salary==160000;\"\"\"\n",
    "crsr.execute(cmd)\n",
    "ans1=crsr.fetchall()\n",
    "print(ans1)"
   ]
  },
  {
   "cell_type": "code",
   "execution_count": 15,
   "metadata": {},
   "outputs": [
    {
     "name": "stdout",
     "output_type": "stream",
     "text": [
      "[('Amol', 200000)]\n"
     ]
    }
   ],
   "source": [
    "cmd=\"\"\"SELECT Name,SUM(salary) AS payment FROM emp GROUP BY Name HAVING payment>160000;\"\"\"\n",
    "crsr.execute(cmd)\n",
    "ans1=crsr.fetchall()\n",
    "print(ans1)"
   ]
  },
  {
   "cell_type": "code",
   "execution_count": null,
   "metadata": {},
   "outputs": [],
   "source": []
  },
  {
   "cell_type": "code",
   "execution_count": 16,
   "metadata": {},
   "outputs": [
    {
     "name": "stdout",
     "output_type": "stream",
     "text": [
      "[('Amol', 200000)]\n"
     ]
    }
   ],
   "source": [
    "cmd=\"\"\"SELECT Name,salary FROM emp GROUP BY Name HAVING salary>160000;\"\"\"\n",
    "crsr.execute(cmd)\n",
    "ans1=crsr.fetchall()\n",
    "print(ans1)"
   ]
  },
  {
   "cell_type": "code",
   "execution_count": null,
   "metadata": {},
   "outputs": [],
   "source": [
    "'''\n",
    "1. WHERE Clause:(pre Filter)\n",
    "WHERE Clause is used to filter the records from the table or used while joining more \n",
    "than one table.Only those records will be extracted who are satisfying the specified \n",
    "condition in WHERE clause. It can be used with SELECT, UPDATE, DELETE statements.\n",
    "\n",
    "\n",
    "2. HAVING Clause:(post Filter)\n",
    "HAVING Clause is used to filter the records from the groups based on the given condition \n",
    "in the HAVING Clause. Those groups who will satisfy the given condition will appear in\n",
    "the final result. HAVING Clause can only be used with SELECT statement.'''"
   ]
  },
  {
   "cell_type": "code",
   "execution_count": null,
   "metadata": {},
   "outputs": [],
   "source": []
  },
  {
   "cell_type": "code",
   "execution_count": null,
   "metadata": {},
   "outputs": [],
   "source": []
  },
  {
   "cell_type": "code",
   "execution_count": null,
   "metadata": {},
   "outputs": [],
   "source": []
  },
  {
   "cell_type": "code",
   "execution_count": null,
   "metadata": {},
   "outputs": [],
   "source": []
  },
  {
   "cell_type": "code",
   "execution_count": null,
   "metadata": {},
   "outputs": [],
   "source": []
  },
  {
   "cell_type": "code",
   "execution_count": null,
   "metadata": {},
   "outputs": [],
   "source": []
  },
  {
   "cell_type": "code",
   "execution_count": null,
   "metadata": {},
   "outputs": [],
   "source": []
  }
 ],
 "metadata": {
  "kernelspec": {
   "display_name": "Python 3",
   "language": "python",
   "name": "python3"
  },
  "language_info": {
   "codemirror_mode": {
    "name": "ipython",
    "version": 3
   },
   "file_extension": ".py",
   "mimetype": "text/x-python",
   "name": "python",
   "nbconvert_exporter": "python",
   "pygments_lexer": "ipython3",
   "version": "3.7.4"
  }
 },
 "nbformat": 4,
 "nbformat_minor": 2
}
